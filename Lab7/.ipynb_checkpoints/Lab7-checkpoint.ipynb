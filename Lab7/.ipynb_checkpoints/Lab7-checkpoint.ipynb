{
 "cells": [
  {
   "cell_type": "code",
   "execution_count": 1,
   "metadata": {},
   "outputs": [],
   "source": [
    "import numpy as np\n",
    "import pandas as pd\n",
    "from IPython.display import display, HTML"
   ]
  },
  {
   "cell_type": "code",
   "execution_count": 59,
   "metadata": {},
   "outputs": [],
   "source": [
    "def aktywacja(x):\n",
    "  if x < 0 or x==False:\n",
    "    return 0\n",
    "  return 1"
   ]
  },
  {
   "cell_type": "code",
   "execution_count": 17,
   "metadata": {},
   "outputs": [
    {
     "name": "stdout",
     "output_type": "stream",
     "text": [
      "   X1  X2  Wynik\n",
      "0   0   0      0\n",
      "   X1  X2  Wynik\n",
      "0   0   1      0\n",
      "   X1  X2  Wynik\n",
      "0   1   0      0\n",
      "   X1  X2  Wynik\n",
      "0   1   1      1\n"
     ]
    }
   ],
   "source": [
    "funkcjaAND = 1 * -1.5\n",
    "dane = [[0,0], [0,1], [1,0], [1,1]]\n",
    "for dana in dane:\n",
    "    wynik = aktywacja(funkcjaAND + dana[0] + dana[1])\n",
    "    andd = pd.DataFrame(data = {'X1' : dana[0], \n",
    "                                'X2' : dana[1], \n",
    "                                'Wynik' : wynik}, \n",
    "                                index=[0])\n",
    "    print(andd)"
   ]
  },
  {
   "cell_type": "code",
   "execution_count": 18,
   "metadata": {},
   "outputs": [
    {
     "name": "stdout",
     "output_type": "stream",
     "text": [
      "   X1  X2  Wynik\n",
      "0   0   0      0\n",
      "   X1  X2  Wynik\n",
      "0   0   1      1\n",
      "   X1  X2  Wynik\n",
      "0   1   0      1\n",
      "   X1  X2  Wynik\n",
      "0   1   1      1\n"
     ]
    }
   ],
   "source": [
    "funkcjaOR = 1 * -0.5\n",
    "dane = [[0,0], [0,1], [1,0], [1,1]]\n",
    "for dana in dane:\n",
    "    wynik = aktywacja(funkcjaOR + dana[0] + dana[1])\n",
    "    orr = pd.DataFrame(data = {'X1' : dana[0], \n",
    "                                'X2' : dana[1], \n",
    "                                'Wynik' : wynik}, \n",
    "                                index=[0])\n",
    "    print(orr)"
   ]
  },
  {
   "cell_type": "code",
   "execution_count": 30,
   "metadata": {},
   "outputs": [
    {
     "name": "stdout",
     "output_type": "stream",
     "text": [
      "   X1  Wynik\n",
      "0   0      1\n",
      "   X1  Wynik\n",
      "0   1      0\n"
     ]
    }
   ],
   "source": [
    "funkcjaNOT = 1 \n",
    "daneNOT = [0,1]\n",
    "for dana in daneNOT:\n",
    "    wynik2 = -2*dana\n",
    "    wynik = aktywacja(funkcjaNOT + wynik2)\n",
    "    nott = pd.DataFrame(data = {'X1' : dana, \n",
    "                                'Wynik' : wynik}, \n",
    "                                index=[0])\n",
    "    print(nott)"
   ]
  },
  {
   "cell_type": "code",
   "execution_count": 57,
   "metadata": {},
   "outputs": [
    {
     "name": "stdout",
     "output_type": "stream",
     "text": [
      "   X1  X2  Wynik\n",
      "0   0   0      0\n",
      "   X1  X2  Wynik\n",
      "0   0   1      1\n",
      "   X1  X2  Wynik\n",
      "0   1   0      1\n",
      "   X1  X2  Wynik\n",
      "0   1   1      0\n"
     ]
    }
   ],
   "source": [
    "dane = [[0,0], [0,1], [1,0], [1,1]]\n",
    "for dana in dane:\n",
    "    wynik = aktywacja(dana[0] != dana[1])\n",
    "    xor = pd.DataFrame(data = {'X1' : dana[0], \n",
    "                                'X2' : dana[1], \n",
    "                                'Wynik' : wynik}, \n",
    "                                index=[0])\n",
    "    print(xor)"
   ]
  },
  {
   "cell_type": "code",
   "execution_count": 61,
   "metadata": {},
   "outputs": [
    {
     "name": "stdout",
     "output_type": "stream",
     "text": [
      "   X1  X2  Wynik\n",
      "0   0   0      1\n",
      "   X1  X2  Wynik\n",
      "0   0   1      0\n",
      "   X1  X2  Wynik\n",
      "0   1   0      0\n",
      "   X1  X2  Wynik\n",
      "0   1   1      1\n"
     ]
    }
   ],
   "source": [
    "dane = [[0,0], [0,1], [1,0], [1,1]]\n",
    "for dana in dane:\n",
    "    wynik = aktywacja(dana[0] == dana[1])\n",
    "    xnor = pd.DataFrame(data = {'X1' : dana[0], \n",
    "                                'X2' : dana[1], \n",
    "                                'Wynik' : wynik}, \n",
    "                                index=[0])\n",
    "    print(xnor)"
   ]
  },
  {
   "cell_type": "code",
   "execution_count": null,
   "metadata": {},
   "outputs": [],
   "source": []
  }
 ],
 "metadata": {
  "kernelspec": {
   "display_name": "Python 3",
   "language": "python",
   "name": "python3"
  },
  "language_info": {
   "codemirror_mode": {
    "name": "ipython",
    "version": 3
   },
   "file_extension": ".py",
   "mimetype": "text/x-python",
   "name": "python",
   "nbconvert_exporter": "python",
   "pygments_lexer": "ipython3",
   "version": "3.7.4"
  }
 },
 "nbformat": 4,
 "nbformat_minor": 2
}
