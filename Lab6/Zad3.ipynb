{
 "cells": [
  {
   "cell_type": "code",
   "execution_count": 11,
   "metadata": {},
   "outputs": [],
   "source": [
    "from urllib.request import urlopen\n",
    "from eventlet import GreenPool\n",
    "import os\n",
    "import pandas as pd\n",
    "import regex\n",
    "import eventlet\n",
    "from sklearn import model_selection\n",
    "from sklearn.feature_extraction.text import CountVectorizer\n",
    "from sklearn.linear_model import LogisticRegression\n",
    "from sklearn import metrics"
   ]
  },
  {
   "cell_type": "code",
   "execution_count": 14,
   "metadata": {},
   "outputs": [],
   "source": [
    "book_files={\n",
    " \"Mickiewicz\": [\n",
    " \"http://wolnelektury.pl/media/book/txt/pan-tadeusz.txt\",\n",
    " \"http://wolnelektury.pl/media/book/txt/dziady-dziady-widowisko-czesc-i.txt\",\n",
    " \"http://wolnelektury.pl/media/book/txt/dziady-dziadow-czesci-iii-ustep-do-przyjaciol-moskali.txt\",\n",
    " \"http://wolnelektury.pl/media/book/txt/ballady-i-romanse-pani-twardowska.txt\",\n",
    " \"http://wolnelektury.pl/media/book/txt/ballady-i-romanse-powrot-taty.txt\",\n",
    " \"http://wolnelektury.pl/media/book/txt/ballady-i-romanse-switez.txt\",\n",
    " \"http://wolnelektury.pl/media/book/txt/dziady-dziady-poema-dziady-czesc-iv.txt\",\n",
    " ],\n",
    " \"Sienkiewicz\": [\n",
    " \"http://wolnelektury.pl/media/book/txt/quo-vadis.txt\",\n",
    " \"http://wolnelektury.pl/media/book/txt/sienkiewicz-we-mgle.txt\",\n",
    " \"http://wolnelektury.pl/media/book/txt/potop-tom-pierwszy.txt\",\n",
    " \"http://wolnelektury.pl/media/book/txt/potop-tom-drugi.txt\",\n",
    " \"http://wolnelektury.pl/media/book/txt/potop-tom-trzeci.txt\",\n",
    " ],\n",
    " \"Orzeszkowa\": [\n",
    " \"http://wolnelektury.pl/media/book/txt/orzeszkowa-kto-winien.txt\",\n",
    " \"http://wolnelektury.pl/media/book/txt/nad-niemnem-tom-pierwszy.txt\",\n",
    " \"http://wolnelektury.pl/media/book/txt/nad-niemnem-tom-drugi.txt\",\n",
    " \"http://wolnelektury.pl/media/book/txt/nad-niemnem-tom-trzeci.txt\",\n",
    " \"http://wolnelektury.pl/media/book/txt/gloria-victis-dziwna-historia.txt\",\n",
    " \"http://wolnelektury.pl/media/book/txt/z-pozogi.txt\",\n",
    " \"http://wolnelektury.pl/media/book/txt/pani-dudkowa.txt\",\n",
    " \"http://wolnelektury.pl/media/book/txt/dymy.txt\",\n",
    " \"http://wolnelektury.pl/media/book/txt/syn-stolarza.txt\",\n",
    " \"http://wolnelektury.pl/media/book/txt/dobra-pani.txt\",\n",
    " \"http://wolnelektury.pl/media/book/txt/cnotliwi.txt\",\n",
    " \"http://wolnelektury.pl/media/book/txt/kilka-slow-o-kobietach.txt\",\n",
    " \"http://wolnelektury.pl/media/book/txt/patryotyzm-i-kosmopolityzm.txt\",\n",
    " \"http://wolnelektury.pl/media/book/txt/julianka.txt\",\n",
    " ],\n",
    " \"Prus\": [\n",
    " \"http://wolnelektury.pl/media/book/txt/lalka-tom-drugi.txt\",\n",
    " \"http://wolnelektury.pl/media/book/txt/lalka-tom-pierwszy.txt\",\n",
    " \"http://wolnelektury.pl/media/book/txt/antek.txt\",\n",
    " \"http://wolnelektury.pl/media/book/txt/katarynka.txt\",\n",
    " \"http://wolnelektury.pl/media/book/txt/prus-anielka.txt\",\n",
    " \"http://wolnelektury.pl/media/book/txt/prus-placowka.txt\",\n",
    " \n",
    " ],\n",
    " \"Reymont\": [\n",
    " \"http://wolnelektury.pl/media/book/txt/ziemia-obiecana-tom-pierwszy.txt\",\n",
    " \"http://wolnelektury.pl/media/book/txt/chlopi-czesc-pierwsza-jesien.txt\",\n",
    " \"http://wolnelektury.pl/media/book/txt/reymont-chlopi-zima.txt\",\n",
    " \"http://wolnelektury.pl/media/book/txt/chlopi-czesc-trzecia-wiosna.txt\",\n",
    " \"http://wolnelektury.pl/media/book/txt/chlopi-czesc-czwarta-lato.txt\",\n",
    " ]\n",
    "}"
   ]
  },
  {
   "cell_type": "code",
   "execution_count": 17,
   "metadata": {},
   "outputs": [
    {
     "ename": "FileExistsError",
     "evalue": "[Errno 17] File exists: 'data'",
     "output_type": "error",
     "traceback": [
      "\u001b[0;31m---------------------------------------------------------------------------\u001b[0m",
      "\u001b[0;31mFileExistsError\u001b[0m                           Traceback (most recent call last)",
      "\u001b[0;32m<ipython-input-17-916f0f83ea40>\u001b[0m in \u001b[0;36m<module>\u001b[0;34m\u001b[0m\n\u001b[1;32m      8\u001b[0m     \u001b[0;32mreturn\u001b[0m \u001b[0mfile_path\u001b[0m\u001b[0;34m,\u001b[0m \u001b[0mdata\u001b[0m\u001b[0;34m\u001b[0m\u001b[0;34m\u001b[0m\u001b[0m\n\u001b[1;32m      9\u001b[0m \u001b[0;34m\u001b[0m\u001b[0m\n\u001b[0;32m---> 10\u001b[0;31m \u001b[0mos\u001b[0m\u001b[0;34m.\u001b[0m\u001b[0mmkdir\u001b[0m\u001b[0;34m(\u001b[0m\u001b[0;34m'data'\u001b[0m\u001b[0;34m)\u001b[0m\u001b[0;34m\u001b[0m\u001b[0;34m\u001b[0m\u001b[0m\n\u001b[0m\u001b[1;32m     11\u001b[0m \u001b[0;34m\u001b[0m\u001b[0m\n\u001b[1;32m     12\u001b[0m \u001b[0;32mfor\u001b[0m \u001b[0mauthor\u001b[0m \u001b[0;32min\u001b[0m \u001b[0mbook_files\u001b[0m\u001b[0;34m:\u001b[0m\u001b[0;34m\u001b[0m\u001b[0;34m\u001b[0m\u001b[0m\n",
      "\u001b[0;31mFileExistsError\u001b[0m: [Errno 17] File exists: 'data'"
     ]
    }
   ],
   "source": [
    "def fetch(url):\n",
    "    file_path = os.path.join(\"./data/\",os.path.basename(url))\n",
    "    if os.path.exists(file_path):\n",
    "        return None, None\n",
    "    data = urlopen(url).read()\n",
    "    return file_path, data\n",
    "\n",
    "os.mkdir('data')\n",
    "\n",
    "for author in book_files:\n",
    "    pool = GreenPool()\n",
    "    for file_path, data in pool.imap(fetch, book_files[author]):\n",
    "        if file_path:\n",
    "            with open(file_path, mode=\"wb\") as f:\n",
    "                f.write(data)\n",
    "print (\"Downloaded\")"
   ]
  },
  {
   "cell_type": "code",
   "execution_count": 18,
   "metadata": {},
   "outputs": [
    {
     "data": {
      "text/html": [
       "<div>\n",
       "<style scoped>\n",
       "    .dataframe tbody tr th:only-of-type {\n",
       "        vertical-align: middle;\n",
       "    }\n",
       "\n",
       "    .dataframe tbody tr th {\n",
       "        vertical-align: top;\n",
       "    }\n",
       "\n",
       "    .dataframe thead th {\n",
       "        text-align: right;\n",
       "    }\n",
       "</style>\n",
       "<table border=\"1\" class=\"dataframe\">\n",
       "  <thead>\n",
       "    <tr style=\"text-align: right;\">\n",
       "      <th></th>\n",
       "      <th>author</th>\n",
       "      <th>txt</th>\n",
       "    </tr>\n",
       "  </thead>\n",
       "  <tbody>\n",
       "    <tr>\n",
       "      <th>0</th>\n",
       "      <td>Mickiewicz</td>\n",
       "      <td>adam mickiewicz pan tadeusz czyli ostatni zaja...</td>\n",
       "    </tr>\n",
       "    <tr>\n",
       "      <th>1</th>\n",
       "      <td>Mickiewicz</td>\n",
       "      <td>ojczyzno moja</td>\n",
       "    </tr>\n",
       "    <tr>\n",
       "      <th>2</th>\n",
       "      <td>Mickiewicz</td>\n",
       "      <td>ty jesteś jak zdrowie ile cię trzeba cenić ten...</td>\n",
       "    </tr>\n",
       "    <tr>\n",
       "      <th>3</th>\n",
       "      <td>Mickiewicz</td>\n",
       "      <td>dziś piękność twą w całej ozdobie widzę i opis...</td>\n",
       "    </tr>\n",
       "    <tr>\n",
       "      <th>4</th>\n",
       "      <td>Mickiewicz</td>\n",
       "      <td>panno święta co jasnej bronisz częstochowy i w...</td>\n",
       "    </tr>\n",
       "  </tbody>\n",
       "</table>\n",
       "</div>"
      ],
      "text/plain": [
       "       author                                                txt\n",
       "0  Mickiewicz  adam mickiewicz pan tadeusz czyli ostatni zaja...\n",
       "1  Mickiewicz                                      ojczyzno moja\n",
       "2  Mickiewicz  ty jesteś jak zdrowie ile cię trzeba cenić ten...\n",
       "3  Mickiewicz  dziś piękność twą w całej ozdobie widzę i opis...\n",
       "4  Mickiewicz  panno święta co jasnej bronisz częstochowy i w..."
      ]
     },
     "execution_count": 18,
     "metadata": {},
     "output_type": "execute_result"
    }
   ],
   "source": [
    "def preprocess_file(file_path=None, file_url=None):\n",
    "    if not file_path and file_url:\n",
    "        file_path = os.path.join(\"data\",os.path.basename(file_url))\n",
    "        \n",
    "    text = open(file_path,'rb').read().decode(\"utf-8\").lower()\n",
    "\n",
    "    text = regex.sub(u\"[^ \\n\\p{Latin}\\-'.?!]\", \" \",text)\n",
    "    text = regex.sub(u\"[ \\n]+\", \" \", text)\n",
    "    text = regex.sub(r\"----- ta lektura.*\",\"\", text)\n",
    "\n",
    "    return [regex.sub(r\"^ \",\"\",l) for l in regex.split('\\.|,|\\?|!|:',text)]\n",
    "\n",
    "\n",
    "def get_book_df(document, author):\n",
    "    return pd.DataFrame({\n",
    "        'author': pd.Series(len(document)*[author]),\n",
    "        'txt': pd.Series(document),\n",
    "    })\n",
    "    \n",
    "book_lines_df = pd.concat([\n",
    "    get_book_df(preprocess_file(file_url=url),author=author) \n",
    "        for author in book_files for url in book_files[author] \n",
    "])\n",
    "\n",
    "book_lines_df.head()"
   ]
  },
  {
   "cell_type": "code",
   "execution_count": 19,
   "metadata": {},
   "outputs": [
    {
     "data": {
      "text/html": [
       "<div>\n",
       "<style scoped>\n",
       "    .dataframe tbody tr th:only-of-type {\n",
       "        vertical-align: middle;\n",
       "    }\n",
       "\n",
       "    .dataframe tbody tr th {\n",
       "        vertical-align: top;\n",
       "    }\n",
       "\n",
       "    .dataframe thead th {\n",
       "        text-align: right;\n",
       "    }\n",
       "</style>\n",
       "<table border=\"1\" class=\"dataframe\">\n",
       "  <thead>\n",
       "    <tr style=\"text-align: right;\">\n",
       "      <th></th>\n",
       "      <th>txt</th>\n",
       "    </tr>\n",
       "    <tr>\n",
       "      <th>author</th>\n",
       "      <th></th>\n",
       "    </tr>\n",
       "  </thead>\n",
       "  <tbody>\n",
       "    <tr>\n",
       "      <th>Mickiewicz</th>\n",
       "      <td>5093</td>\n",
       "    </tr>\n",
       "    <tr>\n",
       "      <th>Orzeszkowa</th>\n",
       "      <td>22177</td>\n",
       "    </tr>\n",
       "    <tr>\n",
       "      <th>Prus</th>\n",
       "      <td>31033</td>\n",
       "    </tr>\n",
       "    <tr>\n",
       "      <th>Reymont</th>\n",
       "      <td>24107</td>\n",
       "    </tr>\n",
       "    <tr>\n",
       "      <th>Sienkiewicz</th>\n",
       "      <td>40381</td>\n",
       "    </tr>\n",
       "  </tbody>\n",
       "</table>\n",
       "</div>"
      ],
      "text/plain": [
       "               txt\n",
       "author            \n",
       "Mickiewicz    5093\n",
       "Orzeszkowa   22177\n",
       "Prus         31033\n",
       "Reymont      24107\n",
       "Sienkiewicz  40381"
      ]
     },
     "execution_count": 19,
     "metadata": {},
     "output_type": "execute_result"
    }
   ],
   "source": [
    "book_lines_df.groupby('author').count()"
   ]
  },
  {
   "cell_type": "code",
   "execution_count": 20,
   "metadata": {},
   "outputs": [
    {
     "data": {
      "text/html": [
       "<div>\n",
       "<style scoped>\n",
       "    .dataframe tbody tr th:only-of-type {\n",
       "        vertical-align: middle;\n",
       "    }\n",
       "\n",
       "    .dataframe tbody tr th {\n",
       "        vertical-align: top;\n",
       "    }\n",
       "\n",
       "    .dataframe thead th {\n",
       "        text-align: right;\n",
       "    }\n",
       "</style>\n",
       "<table border=\"1\" class=\"dataframe\">\n",
       "  <thead>\n",
       "    <tr style=\"text-align: right;\">\n",
       "      <th></th>\n",
       "      <th>count</th>\n",
       "      <th>mean</th>\n",
       "      <th>std</th>\n",
       "      <th>min</th>\n",
       "      <th>25%</th>\n",
       "      <th>50%</th>\n",
       "      <th>75%</th>\n",
       "      <th>max</th>\n",
       "    </tr>\n",
       "    <tr>\n",
       "      <th>author</th>\n",
       "      <th></th>\n",
       "      <th></th>\n",
       "      <th></th>\n",
       "      <th></th>\n",
       "      <th></th>\n",
       "      <th></th>\n",
       "      <th></th>\n",
       "      <th></th>\n",
       "    </tr>\n",
       "  </thead>\n",
       "  <tbody>\n",
       "    <tr>\n",
       "      <th>Mickiewicz</th>\n",
       "      <td>5093.0</td>\n",
       "      <td>16.103868</td>\n",
       "      <td>13.951437</td>\n",
       "      <td>0.0</td>\n",
       "      <td>6.0</td>\n",
       "      <td>13.0</td>\n",
       "      <td>23.0</td>\n",
       "      <td>145.0</td>\n",
       "    </tr>\n",
       "    <tr>\n",
       "      <th>Orzeszkowa</th>\n",
       "      <td>22177.0</td>\n",
       "      <td>19.400821</td>\n",
       "      <td>17.257917</td>\n",
       "      <td>0.0</td>\n",
       "      <td>6.0</td>\n",
       "      <td>15.0</td>\n",
       "      <td>27.0</td>\n",
       "      <td>219.0</td>\n",
       "    </tr>\n",
       "    <tr>\n",
       "      <th>Prus</th>\n",
       "      <td>31033.0</td>\n",
       "      <td>12.131537</td>\n",
       "      <td>10.041450</td>\n",
       "      <td>0.0</td>\n",
       "      <td>5.0</td>\n",
       "      <td>10.0</td>\n",
       "      <td>17.0</td>\n",
       "      <td>133.0</td>\n",
       "    </tr>\n",
       "    <tr>\n",
       "      <th>Reymont</th>\n",
       "      <td>24107.0</td>\n",
       "      <td>16.359398</td>\n",
       "      <td>18.880965</td>\n",
       "      <td>0.0</td>\n",
       "      <td>5.0</td>\n",
       "      <td>10.0</td>\n",
       "      <td>21.0</td>\n",
       "      <td>316.0</td>\n",
       "    </tr>\n",
       "    <tr>\n",
       "      <th>Sienkiewicz</th>\n",
       "      <td>40381.0</td>\n",
       "      <td>13.705579</td>\n",
       "      <td>12.038426</td>\n",
       "      <td>0.0</td>\n",
       "      <td>5.0</td>\n",
       "      <td>10.0</td>\n",
       "      <td>19.0</td>\n",
       "      <td>146.0</td>\n",
       "    </tr>\n",
       "  </tbody>\n",
       "</table>\n",
       "</div>"
      ],
      "text/plain": [
       "               count       mean        std  min  25%   50%   75%    max\n",
       "author                                                                 \n",
       "Mickiewicz    5093.0  16.103868  13.951437  0.0  6.0  13.0  23.0  145.0\n",
       "Orzeszkowa   22177.0  19.400821  17.257917  0.0  6.0  15.0  27.0  219.0\n",
       "Prus         31033.0  12.131537  10.041450  0.0  5.0  10.0  17.0  133.0\n",
       "Reymont      24107.0  16.359398  18.880965  0.0  5.0  10.0  21.0  316.0\n",
       "Sienkiewicz  40381.0  13.705579  12.038426  0.0  5.0  10.0  19.0  146.0"
      ]
     },
     "execution_count": 20,
     "metadata": {},
     "output_type": "execute_result"
    }
   ],
   "source": [
    "book_lines_df['words'] = book_lines_df['txt'].apply(lambda row: len(row.split()))\n",
    "book_lines_df.groupby('author')['words'].describe()"
   ]
  },
  {
   "cell_type": "code",
   "execution_count": 21,
   "metadata": {},
   "outputs": [
    {
     "data": {
      "text/plain": [
       "author\n",
       "Mickiewicz     54.0\n",
       "Orzeszkowa     67.0\n",
       "Prus           39.0\n",
       "Reymont        72.0\n",
       "Sienkiewicz    47.0\n",
       "Name: words, dtype: float64"
      ]
     },
     "execution_count": 21,
     "metadata": {},
     "output_type": "execute_result"
    }
   ],
   "source": [
    "book_lines_df.groupby('author')['words'].quantile(0.98)"
   ]
  },
  {
   "cell_type": "code",
   "execution_count": 22,
   "metadata": {},
   "outputs": [],
   "source": [
    "train_df, test_df = model_selection.train_test_split(book_lines_df, test_size=0.1, stratify=book_lines_df['author'])"
   ]
  },
  {
   "cell_type": "code",
   "execution_count": 23,
   "metadata": {},
   "outputs": [
    {
     "data": {
      "text/plain": [
       "<1x131454 sparse matrix of type '<class 'numpy.int64'>'\n",
       "\twith 24 stored elements in Compressed Sparse Row format>"
      ]
     },
     "execution_count": 23,
     "metadata": {},
     "output_type": "execute_result"
    }
   ],
   "source": [
    "vect = CountVectorizer()\n",
    "vect.fit(train_df['txt'])\n",
    "sample_sentence = train_df.iloc[2]['txt']\n",
    "vect.transform([sample_sentence])"
   ]
  },
  {
   "cell_type": "code",
   "execution_count": 26,
   "metadata": {},
   "outputs": [
    {
     "data": {
      "text/plain": [
       "LogisticRegression(C=1.0, class_weight='balanced', dual=True,\n",
       "                   fit_intercept=True, intercept_scaling=1, l1_ratio=None,\n",
       "                   max_iter=100, multi_class='warn', n_jobs=None, penalty='l2',\n",
       "                   random_state=None, solver='warn', tol=0.0001, verbose=0,\n",
       "                   warm_start=False)"
      ]
     },
     "execution_count": 26,
     "metadata": {},
     "output_type": "execute_result"
    }
   ],
   "source": [
    "X_train = vect.transform(train_df['txt'])\n",
    "X_test=vect.transform(test_df['txt'])\n",
    "model = LogisticRegression(class_weight='balanced', dual=True)\n",
    "model.fit(X_train, train_df['author'])"
   ]
  },
  {
   "cell_type": "code",
   "execution_count": 27,
   "metadata": {},
   "outputs": [
    {
     "data": {
      "text/plain": [
       "0.7605048859934853"
      ]
     },
     "execution_count": 27,
     "metadata": {},
     "output_type": "execute_result"
    }
   ],
   "source": [
    "model.score(X_test, test_df['author'])"
   ]
  },
  {
   "cell_type": "code",
   "execution_count": 28,
   "metadata": {},
   "outputs": [
    {
     "name": "stdout",
     "output_type": "stream",
     "text": [
      "              precision    recall  f1-score   support\n",
      "\n",
      "  Mickiewicz       0.63      0.57      0.60       509\n",
      "  Orzeszkowa       0.74      0.72      0.73      2218\n",
      "        Prus       0.74      0.73      0.73      3104\n",
      "     Reymont       0.76      0.75      0.76      2411\n",
      " Sienkiewicz       0.80      0.83      0.82      4038\n",
      "\n",
      "    accuracy                           0.76     12280\n",
      "   macro avg       0.73      0.72      0.73     12280\n",
      "weighted avg       0.76      0.76      0.76     12280\n",
      "\n"
     ]
    }
   ],
   "source": [
    "target = test_df['author']\n",
    "predicted = model.predict(X_test)\n",
    "print(metrics.classification_report(target, predicted))"
   ]
  },
  {
   "cell_type": "code",
   "execution_count": null,
   "metadata": {},
   "outputs": [],
   "source": []
  }
 ],
 "metadata": {
  "kernelspec": {
   "display_name": "Python 3",
   "language": "python",
   "name": "python3"
  },
  "language_info": {
   "codemirror_mode": {
    "name": "ipython",
    "version": 3
   },
   "file_extension": ".py",
   "mimetype": "text/x-python",
   "name": "python",
   "nbconvert_exporter": "python",
   "pygments_lexer": "ipython3",
   "version": "3.7.4"
  }
 },
 "nbformat": 4,
 "nbformat_minor": 2
}
