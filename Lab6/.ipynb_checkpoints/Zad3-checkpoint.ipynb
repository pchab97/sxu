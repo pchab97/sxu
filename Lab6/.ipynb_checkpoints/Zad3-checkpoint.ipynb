{
 "cells": [
  {
   "cell_type": "code",
   "execution_count": 11,
   "metadata": {},
   "outputs": [],
   "source": [
    "from urllib.request import urlopen\n",
    "from eventlet import GreenPool\n",
    "import os\n",
    "import pandas as pd\n",
    "import regex\n",
    "import eventlet\n",
    "from sklearn import model_selection\n",
    "from sklearn.feature_extraction.text import CountVectorizer\n",
    "from sklearn.linear_model import LogisticRegression\n",
    "from sklearn import metrics"
   ]
  },
  {
   "cell_type": "code",
   "execution_count": 14,
   "metadata": {},
   "outputs": [],
   "source": [
    "book_files={\n",
    " \"Mickiewicz\": [\n",
    " \"http://wolnelektury.pl/media/book/txt/pan-tadeusz.txt\",\n",
    " \"http://wolnelektury.pl/media/book/txt/dziady-dziady-widowisko-czesc-i.txt\",\n",
    " \"http://wolnelektury.pl/media/book/txt/dziady-dziadow-czesci-iii-ustep-do-przyjaciol-moskali.txt\",\n",
    " \"http://wolnelektury.pl/media/book/txt/ballady-i-romanse-pani-twardowska.txt\",\n",
    " \"http://wolnelektury.pl/media/book/txt/ballady-i-romanse-powrot-taty.txt\",\n",
    " \"http://wolnelektury.pl/media/book/txt/ballady-i-romanse-switez.txt\",\n",
    " \"http://wolnelektury.pl/media/book/txt/dziady-dziady-poema-dziady-czesc-iv.txt\",\n",
    " ],\n",
    " \"Sienkiewicz\": [\n",
    " \"http://wolnelektury.pl/media/book/txt/quo-vadis.txt\",\n",
    " \"http://wolnelektury.pl/media/book/txt/sienkiewicz-we-mgle.txt\",\n",
    " \"http://wolnelektury.pl/media/book/txt/potop-tom-pierwszy.txt\",\n",
    " \"http://wolnelektury.pl/media/book/txt/potop-tom-drugi.txt\",\n",
    " \"http://wolnelektury.pl/media/book/txt/potop-tom-trzeci.txt\",\n",
    " ],\n",
    " \"Orzeszkowa\": [\n",
    " \"http://wolnelektury.pl/media/book/txt/orzeszkowa-kto-winien.txt\",\n",
    " \"http://wolnelektury.pl/media/book/txt/nad-niemnem-tom-pierwszy.txt\",\n",
    " \"http://wolnelektury.pl/media/book/txt/nad-niemnem-tom-drugi.txt\",\n",
    " \"http://wolnelektury.pl/media/book/txt/nad-niemnem-tom-trzeci.txt\",\n",
    " \"http://wolnelektury.pl/media/book/txt/gloria-victis-dziwna-historia.txt\",\n",
    " \"http://wolnelektury.pl/media/book/txt/z-pozogi.txt\",\n",
    " \"http://wolnelektury.pl/media/book/txt/pani-dudkowa.txt\",\n",
    " \"http://wolnelektury.pl/media/book/txt/dymy.txt\",\n",
    " \"http://wolnelektury.pl/media/book/txt/syn-stolarza.txt\",\n",
    " \"http://wolnelektury.pl/media/book/txt/dobra-pani.txt\",\n",
    " \"http://wolnelektury.pl/media/book/txt/cnotliwi.txt\",\n",
    " \"http://wolnelektury.pl/media/book/txt/kilka-slow-o-kobietach.txt\",\n",
    " \"http://wolnelektury.pl/media/book/txt/patryotyzm-i-kosmopolityzm.txt\",\n",
    " \"http://wolnelektury.pl/media/book/txt/julianka.txt\",\n",
    " ],\n",
    " \"Prus\": [\n",
    " \"http://wolnelektury.pl/media/book/txt/lalka-tom-drugi.txt\",\n",
    " \"http://wolnelektury.pl/media/book/txt/lalka-tom-pierwszy.txt\",\n",
    " \"http://wolnelektury.pl/media/book/txt/antek.txt\",\n",
    " \"http://wolnelektury.pl/media/book/txt/katarynka.txt\",\n",
    " \"http://wolnelektury.pl/media/book/txt/prus-anielka.txt\",\n",
    " \"http://wolnelektury.pl/media/book/txt/prus-placowka.txt\",\n",
    " \n",
    " ],\n",
    " \"Reymont\": [\n",
    " \"http://wolnelektury.pl/media/book/txt/ziemia-obiecana-tom-pierwszy.txt\",\n",
    " \"http://wolnelektury.pl/media/book/txt/chlopi-czesc-pierwsza-jesien.txt\",\n",
    " \"http://wolnelektury.pl/media/book/txt/reymont-chlopi-zima.txt\",\n",
    " \"http://wolnelektury.pl/media/book/txt/chlopi-czesc-trzecia-wiosna.txt\",\n",
    " \"http://wolnelektury.pl/media/book/txt/chlopi-czesc-czwarta-lato.txt\",\n",
    " ]\n",
    "}"
   ]
  },
  {
   "cell_type": "code",
   "execution_count": 17,
   "metadata": {},
   "outputs": [
    {
     "ename": "FileExistsError",
     "evalue": "[Errno 17] File exists: 'data'",
     "output_type": "error",
     "traceback": [
      "\u001b[0;31m---------------------------------------------------------------------------\u001b[0m",
      "\u001b[0;31mFileExistsError\u001b[0m                           Traceback (most recent call last)",
      "\u001b[0;32m<ipython-input-17-916f0f83ea40>\u001b[0m in \u001b[0;36m<module>\u001b[0;34m\u001b[0m\n\u001b[1;32m      8\u001b[0m     \u001b[0;32mreturn\u001b[0m \u001b[0mfile_path\u001b[0m\u001b[0;34m,\u001b[0m \u001b[0mdata\u001b[0m\u001b[0;34m\u001b[0m\u001b[0;34m\u001b[0m\u001b[0m\n\u001b[1;32m      9\u001b[0m \u001b[0;34m\u001b[0m\u001b[0m\n\u001b[0;32m---> 10\u001b[0;31m \u001b[0mos\u001b[0m\u001b[0;34m.\u001b[0m\u001b[0mmkdir\u001b[0m\u001b[0;34m(\u001b[0m\u001b[0;34m'data'\u001b[0m\u001b[0;34m)\u001b[0m\u001b[0;34m\u001b[0m\u001b[0;34m\u001b[0m\u001b[0m\n\u001b[0m\u001b[1;32m     11\u001b[0m \u001b[0;34m\u001b[0m\u001b[0m\n\u001b[1;32m     12\u001b[0m \u001b[0;32mfor\u001b[0m \u001b[0mauthor\u001b[0m \u001b[0;32min\u001b[0m \u001b[0mbook_files\u001b[0m\u001b[0;34m:\u001b[0m\u001b[0;34m\u001b[0m\u001b[0;34m\u001b[0m\u001b[0m\n",
      "\u001b[0;31mFileExistsError\u001b[0m: [Errno 17] File exists: 'data'"
     ]
    }
   ],
   "source": [
    "\n",
    "\n",
    "def fetch(url):\n",
    "    file_path = os.path.join(\"./data/\",os.path.basename(url))\n",
    "    if os.path.exists(file_path):\n",
    "        return None, None\n",
    "    data = urlopen(url).read()\n",
    "    return file_path, data\n",
    "\n",
    "os.mkdir('data')\n",
    "\n",
    "for author in book_files:\n",
    "    pool = GreenPool()\n",
    "    for file_path, data in pool.imap(fetch, book_files[author]):\n",
    "        if file_path:\n",
    "            with open(file_path, mode=\"wb\") as f:\n",
    "                f.write(data)\n",
    "print (\"Downloaded\")\n",
    "\n"
   ]
  },
  {
   "cell_type": "code",
   "execution_count": null,
   "metadata": {},
   "outputs": [],
   "source": []
  }
 ],
 "metadata": {
  "kernelspec": {
   "display_name": "Python 3",
   "language": "python",
   "name": "python3"
  },
  "language_info": {
   "codemirror_mode": {
    "name": "ipython",
    "version": 3
   },
   "file_extension": ".py",
   "mimetype": "text/x-python",
   "name": "python",
   "nbconvert_exporter": "python",
   "pygments_lexer": "ipython3",
   "version": "3.7.4"
  }
 },
 "nbformat": 4,
 "nbformat_minor": 2
}
